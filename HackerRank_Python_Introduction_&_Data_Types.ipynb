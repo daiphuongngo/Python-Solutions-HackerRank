{
  "nbformat": 4,
  "nbformat_minor": 0,
  "metadata": {
    "colab": {
      "name": "HackerRank - Python - Introduction & Data Types.ipynb",
      "provenance": [],
      "collapsed_sections": []
    },
    "kernelspec": {
      "name": "python3",
      "display_name": "Python 3"
    }
  },
  "cells": [
    {
      "cell_type": "markdown",
      "metadata": {
        "id": "O7CI-_BKG93p"
      },
      "source": [
        "# Introduction"
      ]
    },
    {
      "cell_type": "markdown",
      "metadata": {
        "id": "TFikzkhb4JVO"
      },
      "source": [
        "1/ Python If-Else"
      ]
    },
    {
      "cell_type": "code",
      "metadata": {
        "id": "o3wEwzER4KJG",
        "colab": {
          "base_uri": "https://localhost:8080/",
          "height": 50
        },
        "outputId": "073e4da0-4fa3-4cd2-ba76-d6419249e03b"
      },
      "source": [
        "if __name__ == '__main__':\n",
        "    n = int(input().strip())\n",
        "    if n % 2 == 1:\n",
        "        print('Weird')\n",
        "    else:\n",
        "        if 2 <= n <= 5:\n",
        "            print('Not Weird')\n",
        "        elif 6 <= n <= 20:\n",
        "            print('Weird')\n",
        "        else:\n",
        "            print('Not Weird')"
      ],
      "execution_count": null,
      "outputs": [
        {
          "output_type": "stream",
          "text": [
            "24\n",
            "Not Weird\n"
          ],
          "name": "stdout"
        }
      ]
    },
    {
      "cell_type": "markdown",
      "metadata": {
        "id": "q8Zt9_k-HFEF"
      },
      "source": [
        "2/ Arithmetic Operators\n",
        "\n",
        "The provided code stub reads two integers from STDIN, a and b. Add code to print three lines where:\n",
        "\n",
        "The first line contains the sum of the two numbers.\n",
        "\n",
        "The second line contains the difference of the two numbers (first - second).\n",
        "\n",
        "The third line contains the product of the two numbers."
      ]
    },
    {
      "cell_type": "code",
      "metadata": {
        "colab": {
          "base_uri": "https://localhost:8080/"
        },
        "id": "sK6-UAKoHDwC",
        "outputId": "44cace4d-672d-40c9-cf9f-bc5eb9634a10"
      },
      "source": [
        "if __name__ == '__main__':\n",
        "    a = int(input())\n",
        "    b = int(input())\n",
        "    print(a+b, a-b, a*b, sep='\\n')"
      ],
      "execution_count": null,
      "outputs": [
        {
          "output_type": "stream",
          "text": [
            "3\n",
            "5\n",
            "8\n",
            "-2\n",
            "15\n"
          ],
          "name": "stdout"
        }
      ]
    },
    {
      "cell_type": "markdown",
      "metadata": {
        "id": "i0zcMUwa6eZE"
      },
      "source": [
        "3/ Python: Division\n",
        "\n",
        "The provided code stub reads two integers, a and b, from STDIN.\n",
        "\n",
        "Add logic to print two lines. The first line should contain the result of integer division, a // b. The second line should contain the result of float division, a / b.\n",
        "\n",
        "No rounding or formatting is necessary."
      ]
    },
    {
      "cell_type": "code",
      "metadata": {
        "id": "xhda1AWb4OeX",
        "colab": {
          "base_uri": "https://localhost:8080/",
          "height": 84
        },
        "outputId": "1e749a43-f9d3-41f8-cd00-32e9f4afdd41"
      },
      "source": [
        "if __name__ == '__main__':\n",
        "    a = int(input())\n",
        "    b = int(input())\n",
        "    print(a // b, '%.11f' % (a / b), sep='\\n')"
      ],
      "execution_count": null,
      "outputs": [
        {
          "output_type": "stream",
          "text": [
            "4\n",
            "3\n",
            "1\n",
            "1.33333333333\n"
          ],
          "name": "stdout"
        }
      ]
    },
    {
      "cell_type": "markdown",
      "metadata": {
        "id": "Ijcdugt_6j7G"
      },
      "source": [
        "4/ Loops\n",
        "\n",
        "The provided code stub reads and integer, n, from STDIN. For all non-negative integers i < n, print i^2."
      ]
    },
    {
      "cell_type": "code",
      "metadata": {
        "id": "bkovN-iG6iO_",
        "colab": {
          "base_uri": "https://localhost:8080/",
          "height": 185
        },
        "outputId": "a257f8a3-d163-468a-fe91-bd1bd704fb0e"
      },
      "source": [
        "if __name__ == '__main__':\n",
        "    n = int(input())\n",
        "    for i in range(n):\n",
        "        print(i**2)"
      ],
      "execution_count": null,
      "outputs": [
        {
          "output_type": "stream",
          "text": [
            "9\n",
            "0\n",
            "1\n",
            "4\n",
            "9\n",
            "16\n",
            "25\n",
            "36\n",
            "49\n",
            "64\n"
          ],
          "name": "stdout"
        }
      ]
    },
    {
      "cell_type": "markdown",
      "metadata": {
        "id": "Gr3c7ImD60d1"
      },
      "source": [
        "4/ Write a function (Leap Year)\n",
        "\n",
        "(same like last question of Nordic Coder Exercise 3)\n",
        "\n",
        "Given a year, determine whether it is a leap year. If it is a leap year, return the Boolean True, otherwise return False.\n",
        "\n",
        "Note that the code stub provided reads from STDIN and passes arguments to the is_leap function. It is only necessary to complete the is_leap function."
      ]
    },
    {
      "cell_type": "code",
      "metadata": {
        "id": "ugRVLbjj6zQV",
        "colab": {
          "base_uri": "https://localhost:8080/",
          "height": 50
        },
        "outputId": "1e95303a-74ca-49ad-9404-efdb928e1c0b"
      },
      "source": [
        "def is_leap(year):\n",
        "    leap = False\n",
        "    if year % 400 == 0 or year % 4 == 0 and year % 100 != 0:\n",
        "        leap = True\n",
        "    return leap\n",
        "is_leap(int(input()))\n",
        "#year = int(input())    "
      ],
      "execution_count": null,
      "outputs": [
        {
          "output_type": "stream",
          "text": [
            "1992\n"
          ],
          "name": "stdout"
        },
        {
          "output_type": "execute_result",
          "data": {
            "text/plain": [
              "True"
            ]
          },
          "metadata": {
            "tags": []
          },
          "execution_count": 8
        }
      ]
    },
    {
      "cell_type": "markdown",
      "metadata": {
        "id": "4ft6GkAj9E6Z"
      },
      "source": [
        "5/ Print Function\n",
        "\n",
        "Print a string of numbers <= given input w/o space.\n",
        "\n",
        "The included code stub will read an integer, n, from STDIN.\n",
        "\n",
        "Without using any string methods, try to print the following:\n",
        "\n",
        "123 ... n\n",
        "\n",
        "Note that \"...\" represents the consecutive values in between."
      ]
    },
    {
      "cell_type": "code",
      "metadata": {
        "id": "nGoilJdq85UD",
        "colab": {
          "base_uri": "https://localhost:8080/",
          "height": 50
        },
        "outputId": "70592ca4-b18d-47ee-b9ab-6bcf9e2578e7"
      },
      "source": [
        "if __name__ == '__main__':\n",
        "    n = int(input())\n",
        "    lst = []\n",
        "    for i in range(1, n+1):\n",
        "        lst.append(i)\n",
        "    print(''.join(map(str, lst)))"
      ],
      "execution_count": null,
      "outputs": [
        {
          "output_type": "stream",
          "text": [
            "3\n",
            "123\n"
          ],
          "name": "stdout"
        }
      ]
    },
    {
      "cell_type": "markdown",
      "metadata": {
        "id": "6L5_eXqxIc4j"
      },
      "source": [
        "# Basic Data Types"
      ]
    },
    {
      "cell_type": "markdown",
      "metadata": {
        "id": "tZVKtFTuIjrz"
      },
      "source": [
        "6/ List Comprehensions\n",
        "\n",
        "Let's learn about list comprehensions! You are given three integers x, y and z representing the dimensions of a cuboid along with an integer n. Print a list of all possible coordinates given by (i, j, k) on a 3D grid where the sum of  is not equal to i + j + k. Here, 0 <= i <= x, 0 <= j <= y, 0 <= k <= z. Please use list comprehensions rather than multiple loops, as a learning exercise."
      ]
    },
    {
      "cell_type": "code",
      "metadata": {
        "colab": {
          "base_uri": "https://localhost:8080/"
        },
        "id": "ed0PMlMJIelD",
        "outputId": "d23427cf-8de3-48b8-d707-754183834d15"
      },
      "source": [
        "# Method 1: for loop\n",
        "x, y, z, n = (int(input()) for _ in range(4))\n",
        "print ([[a,b,c] for a in range(0, x+1) for b in range(0, y+1) for c in range(0, z+1) if a + b + c != n ])"
      ],
      "execution_count": null,
      "outputs": [
        {
          "output_type": "stream",
          "text": [
            "1\n",
            "1\n",
            "1\n",
            "2\n",
            "[[0, 0, 0], [0, 0, 1], [0, 1, 0], [1, 0, 0], [1, 1, 1]]\n"
          ],
          "name": "stdout"
        }
      ]
    },
    {
      "cell_type": "markdown",
      "metadata": {
        "id": "9Uuny-oH-TDW"
      },
      "source": [
        "7/ Find the Runner-Up Score!\n",
        "\n",
        "Given the participants' score sheet for your University Sports Day, you are required to find the runner-up score. You are given  scores. Store them in a list and find the score of the runner-up."
      ]
    },
    {
      "cell_type": "code",
      "metadata": {
        "id": "LrTsy9a1-CG_",
        "colab": {
          "base_uri": "https://localhost:8080/",
          "height": 84
        },
        "outputId": "e0b3a4ac-aaa8-4b1f-f6d1-272e22290ff5"
      },
      "source": [
        "# Method 1: using set\n",
        "if __name__ == '__main__':\n",
        "    n = int(input())\n",
        "    arr = map(int, input().split())\n",
        "    sset = set()\n",
        "    for i in arr:\n",
        "        sset.add(i)\n",
        "    sset.remove(max(sset))\n",
        "    print(max(sset))"
      ],
      "execution_count": null,
      "outputs": [
        {
          "output_type": "stream",
          "text": [
            "5\n",
            "2 3 6 6 5\n",
            "{2, 3, 5, 6}\n",
            "5\n"
          ],
          "name": "stdout"
        }
      ]
    },
    {
      "cell_type": "code",
      "metadata": {
        "id": "vl5x-JQj-kC-",
        "colab": {
          "base_uri": "https://localhost:8080/",
          "height": 67
        },
        "outputId": "a3af5b9e-6872-46f9-eb24-6ade53b1ffe8"
      },
      "source": [
        "# Method 2: using list\n",
        "if __name__ == '__main__':    \n",
        "    n = int(input())\n",
        "    arr = list(map(int, input().split()))\n",
        "    a = max(arr)\n",
        "    for x in range(len(arr)-1,-1,-1):\n",
        "            if arr[x] == a:\n",
        "                    arr.remove(arr[x])\n",
        "    print(max(arr))"
      ],
      "execution_count": null,
      "outputs": [
        {
          "output_type": "stream",
          "text": [
            "5\n",
            "2 3 6 6 5\n",
            "5\n"
          ],
          "name": "stdout"
        }
      ]
    },
    {
      "cell_type": "markdown",
      "metadata": {
        "id": "BjseSzSxEuUu"
      },
      "source": [
        "8/ Nested Lists\n",
        "\n",
        "Given the names and grades for each student in a class of  students, store them in a nested list and print the name(s) of any student(s) having the second lowest grade.\n",
        "\n",
        "Note: If there are multiple students with the second lowest grade, order their names alphabetically and print each name on a new line."
      ]
    },
    {
      "cell_type": "code",
      "metadata": {
        "colab": {
          "base_uri": "https://localhost:8080/"
        },
        "id": "mZCyB3INEZVA",
        "outputId": "66bc8935-8e48-43c2-cd98-a134fe7b920d"
      },
      "source": [
        "# Method 1:\n",
        "marksheet = []\n",
        "for _ in range(0,int(input())):\n",
        "    marksheet.append([input(), float(input())])\n",
        "\n",
        "second_highest = sorted(list(set([marks for name, marks in marksheet])))[1]\n",
        "print('\\n'.join([a for a,b in sorted(marksheet) if b == second_highest]))"
      ],
      "execution_count": null,
      "outputs": [
        {
          "output_type": "stream",
          "text": [
            "5\n",
            "Harry\n",
            "37.21\n",
            "Berry\n",
            "37.21\n",
            "Tina\n",
            "37.2\n",
            "Akriti\n",
            "41\n",
            "Harsh\n",
            "39\n",
            "Berry\n",
            "Harry\n"
          ],
          "name": "stdout"
        }
      ]
    },
    {
      "cell_type": "code",
      "metadata": {
        "colab": {
          "base_uri": "https://localhost:8080/"
        },
        "id": "aWqbtbGIFHrC",
        "outputId": "8079efb3-cc8e-4d2b-9c9a-f932df361d11"
      },
      "source": [
        "# Method 2: \n",
        "n = int(input())\n",
        "marksheet = [[input(), float(input())] for _ in range(n)]\n",
        "\n",
        "second_highest = sorted(list(set([marks for name, marks in marksheet])))[1]\n",
        "print(\"Box: \", [marks for name, marks in marksheet])\n",
        "print(\"Set: \", set([marks for name, marks in marksheet]))\n",
        "print(\"List: \", list(set([marks for name, marks in marksheet])))\n",
        "print(\"Sorted list: \", sorted(list(set([marks for name, marks in marksheet]))))\n",
        "print(second_highest)\n",
        "print('\\n'.join([a for a,b in sorted(marksheet) if b == second_highest]))"
      ],
      "execution_count": null,
      "outputs": [
        {
          "output_type": "stream",
          "text": [
            "5\n",
            "Harry\n",
            "37.21\n",
            "Berry\n",
            "37.21\n",
            "Tina\n",
            "37.2\n",
            "Akriti\n",
            "41\n",
            "Harsh\n",
            "39\n",
            "Box:  [37.21, 37.21, 37.2, 41.0, 39.0]\n",
            "Set:  {41.0, 37.2, 37.21, 39.0}\n",
            "List:  [41.0, 37.2, 37.21, 39.0]\n",
            "Sorted list:  [37.2, 37.21, 39.0, 41.0]\n",
            "37.21\n",
            "Berry\n",
            "Harry\n"
          ],
          "name": "stdout"
        }
      ]
    },
    {
      "cell_type": "markdown",
      "metadata": {
        "id": "5FZVV0ixKulH"
      },
      "source": [
        "9/ Find the Percentage\n",
        "\n",
        "\n",
        "The provided code stub will read in a dictionary containing key/value pairs of name:[marks] for a list of students. Print the average of the marks array for the student name provided, showing 2 places after the decimal."
      ]
    },
    {
      "cell_type": "code",
      "metadata": {
        "colab": {
          "base_uri": "https://localhost:8080/"
        },
        "id": "tCf5VSMoK1Nw",
        "outputId": "7c809ed6-f380-440e-a714-33f046ddb664"
      },
      "source": [
        "# Import decimal\n",
        "from decimal import Decimal\n",
        "if __name__ == '__main__':\n",
        "    n = int(input())\n",
        "    student_marks = {}\n",
        "    for _ in range(n):\n",
        "        name, *line = input().split() # Single asterisk as used in function declaration allows variable number of arguments passed from calling environment. Inside the function it behaves as a tuple.\n",
        "        scores = list(map(float, line))\n",
        "        student_marks[name] = scores\n",
        "    query_name = input()\n",
        "\n",
        "# Extract the values into a list: query_scores\n",
        "query_scores = student_marks[query_name]\n",
        "\n",
        "# Sum the scores in the list: total_scores\n",
        "total_scores = sum(query_scores)\n",
        "\n",
        "# Convert the floats to decimals and average the scores: avg\n",
        "avg = Decimal(total_scores/3)\n",
        "\n",
        "# Print the mean of the scores, correct to two decimals\n",
        "print(round(avg,2))\n"
      ],
      "execution_count": null,
      "outputs": [
        {
          "output_type": "stream",
          "text": [
            "3\n",
            "Krishna 67 68 69\n",
            "Arjun 70 98 63\n",
            "Malika 52 56 60\n",
            "Malika\n",
            "56.00\n"
          ],
          "name": "stdout"
        }
      ]
    },
    {
      "cell_type": "markdown",
      "metadata": {
        "id": "_BnXXMKjLPiT"
      },
      "source": [
        "10/ Lists\n",
        "\n",
        "Consider a list (list = []). You can perform the following commands:\n",
        "\n",
        "insert i e: Insert integer e at position i.\n",
        "\n",
        "print: Print the list.\n",
        "\n",
        "remove e: Delete the first occurrence of integer e.\n",
        "\n",
        "append e: Insert integer  at the end of the list.\n",
        "\n",
        "sort: Sort the list.\n",
        "\n",
        "pop: Pop the last element from the list.\n",
        "\n",
        "reverse: Reverse the list.\n",
        "\n",
        "Initialize your list and read in the value of  followed by  lines of commands where each command will be of the  types listed above. Iterate through each command in order and perform the corresponding operation on your list."
      ]
    },
    {
      "cell_type": "code",
      "metadata": {
        "colab": {
          "base_uri": "https://localhost:8080/"
        },
        "id": "KydWs0tJLQLX",
        "outputId": "e8c5b5c6-71f2-4edc-a46c-534b85008e8d"
      },
      "source": [
        "def handler(result):\n",
        "    inp = input().split()\n",
        "    command = inp[0]\n",
        "    values = inp[1:]\n",
        "    if command == 'print':\n",
        "        print(result)\n",
        "    else:\n",
        "        execute = 'result.' + command + \"(\" + \",\".join(values) + \")\"\n",
        "        eval(execute)\n",
        "\n",
        "\n",
        "result = []\n",
        "for i in range(int(input())):\n",
        "    handler(result)"
      ],
      "execution_count": null,
      "outputs": [
        {
          "output_type": "stream",
          "text": [
            "12\n",
            "insert 0 5\n",
            "insert 1 10\n",
            "insert 0 6\n",
            "print\n",
            "[6, 5, 10]\n",
            "remove 6\n",
            "append 9\n",
            "append 1\n",
            "sort\n",
            "print\n",
            "[1, 5, 9, 10]\n",
            "pop\n",
            "reverse\n",
            "print\n",
            "[9, 5, 1]\n"
          ],
          "name": "stdout"
        }
      ]
    },
    {
      "cell_type": "markdown",
      "metadata": {
        "id": "ObmH6j9yMhLb"
      },
      "source": [
        "11/ Tuples\n",
        "\n",
        "Given an integer, n, and n space-separated integers as input, create a tuple, t, of those n integers. Then compute and print the result of hash(t).\n",
        "\n",
        "Note: hash() is one of the functions in the __builtins__ module, so it need not be imported."
      ]
    },
    {
      "cell_type": "code",
      "metadata": {
        "colab": {
          "base_uri": "https://localhost:8080/"
        },
        "id": "O8LpDojvL9WQ",
        "outputId": "2f72e4c4-71d4-4cd8-94e6-e38da3d266ce"
      },
      "source": [
        "n = int(input())\n",
        "print(hash(tuple(map(int, input().split()))))"
      ],
      "execution_count": null,
      "outputs": [
        {
          "output_type": "stream",
          "text": [
            "2\n",
            "1 2\n",
            "3713081631934410656\n"
          ],
          "name": "stdout"
        }
      ]
    },
    {
      "cell_type": "markdown",
      "metadata": {
        "id": "E6seDy9oNUyY"
      },
      "source": [
        "12/ Floor, Ceil and Rint\n",
        "\n",
        "You are given a 1-D array, A. Your task is to print the floor, ceil and rint of all the elements of A."
      ]
    },
    {
      "cell_type": "code",
      "metadata": {
        "colab": {
          "base_uri": "https://localhost:8080/"
        },
        "id": "-zgHWuzZM_wa",
        "outputId": "9ef97c81-4235-4775-dcab-b4634be153a3"
      },
      "source": [
        "# Method 1:\n",
        "import numpy\n",
        "numpy.set_printoptions(sign=' ')\n",
        "a = numpy.array(input().split(),float)\n",
        "print(numpy.floor(a))\n",
        "print(numpy.ceil(a))\n",
        "print(numpy.rint(a))"
      ],
      "execution_count": null,
      "outputs": [
        {
          "output_type": "stream",
          "text": [
            "1.1 2.2 3.3 4.4 5.5 6.6 7.7 8.8 9.9\n",
            "[ 1.  2.  3.  4.  5.  6.  7.  8.  9.]\n",
            "[  2.   3.   4.   5.   6.   7.   8.   9.  10.]\n",
            "[  1.   2.   3.   4.   6.   7.   8.   9.  10.]\n"
          ],
          "name": "stdout"
        }
      ]
    },
    {
      "cell_type": "code",
      "metadata": {
        "colab": {
          "base_uri": "https://localhost:8080/"
        },
        "id": "3BUaQsf0NhyK",
        "outputId": "0479f7f9-1e2b-4d61-e97e-52fadceac128"
      },
      "source": [
        "# Method 2:\n",
        "import numpy as np\n",
        "np.set_printoptions(legacy = '1.13')\n",
        "ar = np.array(input().strip().split(), float)\n",
        "print(np.floor(ar), np.ceil(ar), np.rint(ar), sep = \"\\n\")"
      ],
      "execution_count": null,
      "outputs": [
        {
          "output_type": "stream",
          "text": [
            "1.1 2.2 3.3 4.4 5.5 6.6 7.7 8.8 9.9\n",
            "[ 1.  2.  3.  4.  5.  6.  7.  8.  9.]\n",
            "[  2.   3.   4.   5.   6.   7.   8.   9.  10.]\n",
            "[  1.   2.   3.   4.   6.   7.   8.   9.  10.]\n"
          ],
          "name": "stdout"
        }
      ]
    },
    {
      "cell_type": "markdown",
      "metadata": {
        "id": "NhE6UfIiN0fl"
      },
      "source": [
        "# String"
      ]
    },
    {
      "cell_type": "markdown",
      "metadata": {
        "id": "9WXef74qN28B"
      },
      "source": [
        "13/ sWAP cASE\n",
        "\n",
        "You are given a string and your task is to swap cases. In other words, convert all lowercase letters to uppercase letters and vice versa."
      ]
    },
    {
      "cell_type": "code",
      "metadata": {
        "colab": {
          "base_uri": "https://localhost:8080/"
        },
        "id": "yNDvM6Y2N1nf",
        "outputId": "36a587f4-b1a9-4a1c-8b2a-a5bb99a91027"
      },
      "source": [
        "def swap_case(s):\n",
        "    result = \"\"\n",
        "    for letter in s:\n",
        "        if letter == letter.upper():\n",
        "            result += letter.lower()\n",
        "        else:\n",
        "            result += letter.upper()\n",
        "    return result\n",
        "\n",
        "if __name__ == '__main__':\n",
        "    s = input()\n",
        "    result = swap_case(s)\n",
        "    print(result)"
      ],
      "execution_count": null,
      "outputs": [
        {
          "output_type": "stream",
          "text": [
            "HackerRank.com presents \"Pythonist 2\".\n",
            "hACKERrANK.COM PRESENTS \"pYTHONIST 2\".\n"
          ],
          "name": "stdout"
        }
      ]
    },
    {
      "cell_type": "markdown",
      "metadata": {
        "id": "Nz6zqyG8PLRq"
      },
      "source": [
        "14/ String Split and Join\n",
        "\n",
        "In Python, a string can be split on a delimiter.\n",
        "\n",
        "You are given a string. Split the string on a \" \" (space) delimiter and join using a - hyphen."
      ]
    },
    {
      "cell_type": "code",
      "metadata": {
        "colab": {
          "base_uri": "https://localhost:8080/"
        },
        "id": "QzrO-HEzNrw_",
        "outputId": "13a04ab8-8616-477e-82e6-01f8f61da36c"
      },
      "source": [
        "def split_and_join(line):\n",
        "    x=line.split(\" \") \n",
        "    x='-'.join(x)    \n",
        "    return x\n",
        "\n",
        "if __name__ == '__main__':\n",
        "    line = input()\n",
        "    result = split_and_join(line)\n",
        "    print(result)"
      ],
      "execution_count": null,
      "outputs": [
        {
          "output_type": "stream",
          "text": [
            "this is a string\n",
            "this-is-a-string\n"
          ],
          "name": "stdout"
        }
      ]
    },
    {
      "cell_type": "code",
      "metadata": {
        "id": "1MwzkgFAQDPF"
      },
      "source": [
        ""
      ],
      "execution_count": null,
      "outputs": []
    }
  ]
}